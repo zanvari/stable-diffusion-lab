{
  "cells": [
    {
      "cell_type": "markdown",
      "id": "e002a129",
      "metadata": {
        "id": "e002a129"
      },
      "source": [
        "# 🧪 Stable Diffusion - Text-to-Image Demo\n",
        "\n",
        "This notebook shows how to generate images from text prompts using the Stable Diffusion model with HuggingFace's `diffusers` library."
      ]
    },
    {
      "cell_type": "markdown",
      "id": "ac6d6371",
      "metadata": {
        "id": "ac6d6371"
      },
      "source": [
        "\n",
        "## 📝 Overview\n",
        "\n",
        "This notebook demonstrates **Text-to-Image generation** using the `StableDiffusionPipeline` from Hugging Face's `diffusers` library.\n",
        "\n",
        "You'll learn how to:\n",
        "- Load and use the pretrained model\n",
        "- Generate images from textual descriptions (prompts)\n",
        "- Compare visual outputs of different prompts\n"
      ]
    },
    {
      "cell_type": "code",
      "execution_count": null,
      "id": "ff5def74",
      "metadata": {
        "id": "ff5def74"
      },
      "outputs": [],
      "source": [
        "!pip install diffusers transformers accelerate safetensors Pillow matplotlib --quiet"
      ]
    },
    {
      "cell_type": "code",
      "execution_count": null,
      "id": "8b3a1946",
      "metadata": {
        "id": "8b3a1946"
      },
      "outputs": [],
      "source": [
        "from diffusers import StableDiffusionPipeline\n",
        "import torch\n",
        "from PIL import Image\n",
        "import matplotlib.pyplot as plt"
      ]
    },
    {
      "cell_type": "code",
      "execution_count": null,
      "id": "d06d0f0d",
      "metadata": {
        "colab": {
          "base_uri": "https://localhost:8080/",
          "height": 49,
          "referenced_widgets": [
            "bb4a6d6561c24a27b693960a916a4849",
            "2da3fc30ff61481fa3a14c344aca934f",
            "65f40407ee59401e8846e1746f4dc494",
            "211e2dde1cab44348442456a78adef0d",
            "53e79052050c4e309eb003f4d6fef01b",
            "855f816e94ec4b9d9ab61f2ac65c9ed9",
            "d754ced486214a3c90c39138710a1e10",
            "ad7867ef03a245efb20321234502983d",
            "78f5fb33c5094279bc314406e817dd04",
            "261c947cc1ae4da4b27e0ea5a6a1377c",
            "95fba0b0e5fc45a0bd92786c75a2a2db"
          ]
        },
        "id": "d06d0f0d",
        "outputId": "393a4dc5-f546-4b9b-e6d8-7cdc36c1ab2a"
      },
      "outputs": [
        {
          "output_type": "display_data",
          "data": {
            "text/plain": [
              "Loading pipeline components...:   0%|          | 0/7 [00:00<?, ?it/s]"
            ],
            "application/vnd.jupyter.widget-view+json": {
              "version_major": 2,
              "version_minor": 0,
              "model_id": "bb4a6d6561c24a27b693960a916a4849"
            }
          },
          "metadata": {}
        }
      ],
      "source": [
        "model_id = \"runwayml/stable-diffusion-v1-5\"\n",
        "pipe = StableDiffusionPipeline.from_pretrained(model_id, torch_dtype=torch.float16)\n",
        "pipe = pipe.to(\"cuda\" if torch.cuda.is_available() else \"cpu\")"
      ]
    },
    {
      "cell_type": "code",
      "execution_count": null,
      "id": "3dccb914",
      "metadata": {
        "id": "3dccb914"
      },
      "outputs": [],
      "source": [
        "import matplotlib.pyplot as plt\n",
        "\n",
        "prompt = \"A fantasy landscape with flying whales and glowing mushrooms\"\n",
        "image = pipe(prompt).images[0]\n",
        "image.save(\"fantasy_landscape.png\")\n",
        "\n",
        "plt.imshow(image)\n",
        "plt.axis(\"off\")\n",
        "plt.show()"
      ]
    },
    {
      "cell_type": "markdown",
      "id": "dc671dab",
      "metadata": {
        "id": "dc671dab"
      },
      "source": [
        "## 🎨 Prompt Comparison"
      ]
    },
    {
      "cell_type": "code",
      "execution_count": null,
      "id": "dd858690",
      "metadata": {
        "id": "dd858690"
      },
      "outputs": [],
      "source": [
        "prompts = [\n",
        "    \"A futuristic cityscape at sunset\",\n",
        "    \"A medieval castle in the mountains\",\n",
        "    \"An astronaut riding a horse on Mars\",\n",
        "    \"A cyberpunk Tokyo street at night\"\n",
        "]\n",
        "\n",
        "images = []\n",
        "for p in prompts:\n",
        "    img = pipe(p).images[0]\n",
        "    images.append((p, img))\n",
        "\n",
        "fig, axs = plt.subplots(1, len(images), figsize=(18, 4))\n",
        "for i, (caption, img) in enumerate(images):\n",
        "    axs[i].imshow(img)\n",
        "    axs[i].axis(\"off\")\n",
        "    axs[i].set_title(caption, fontsize=8)\n",
        "plt.tight_layout()\n",
        "plt.show()"
      ]
    },
    {
      "cell_type": "markdown",
      "id": "5b2e32e8",
      "metadata": {
        "id": "5b2e32e8"
      },
      "source": [
        "\n",
        "## ✅ Summary\n",
        "\n",
        "You’ve now seen how to generate compelling visuals using simple text prompts.\n",
        "Feel free to explore more prompts, combine concepts creatively, and push the limits of prompt engineering!\n"
      ]
    }
  ],
  "metadata": {
    "colab": {
      "provenance": [],
      "gpuType": "T4"
    },
    "accelerator": "GPU",
    "language_info": {
      "name": "python"
    },
    "kernelspec": {
      "name": "python3",
      "display_name": "Python 3"
    },
    "widgets": {
      "application/vnd.jupyter.widget-state+json": {
        "bb4a6d6561c24a27b693960a916a4849": {
          "model_module": "@jupyter-widgets/controls",
          "model_name": "HBoxModel",
          "model_module_version": "1.5.0",
          "state": {
            "_dom_classes": [],
            "_model_module": "@jupyter-widgets/controls",
            "_model_module_version": "1.5.0",
            "_model_name": "HBoxModel",
            "_view_count": null,
            "_view_module": "@jupyter-widgets/controls",
            "_view_module_version": "1.5.0",
            "_view_name": "HBoxView",
            "box_style": "",
            "children": [
              "IPY_MODEL_2da3fc30ff61481fa3a14c344aca934f",
              "IPY_MODEL_65f40407ee59401e8846e1746f4dc494",
              "IPY_MODEL_211e2dde1cab44348442456a78adef0d"
            ],
            "layout": "IPY_MODEL_53e79052050c4e309eb003f4d6fef01b"
          }
        },
        "2da3fc30ff61481fa3a14c344aca934f": {
          "model_module": "@jupyter-widgets/controls",
          "model_name": "HTMLModel",
          "model_module_version": "1.5.0",
          "state": {
            "_dom_classes": [],
            "_model_module": "@jupyter-widgets/controls",
            "_model_module_version": "1.5.0",
            "_model_name": "HTMLModel",
            "_view_count": null,
            "_view_module": "@jupyter-widgets/controls",
            "_view_module_version": "1.5.0",
            "_view_name": "HTMLView",
            "description": "",
            "description_tooltip": null,
            "layout": "IPY_MODEL_855f816e94ec4b9d9ab61f2ac65c9ed9",
            "placeholder": "​",
            "style": "IPY_MODEL_d754ced486214a3c90c39138710a1e10",
            "value": "Loading pipeline components...: 100%"
          }
        },
        "65f40407ee59401e8846e1746f4dc494": {
          "model_module": "@jupyter-widgets/controls",
          "model_name": "FloatProgressModel",
          "model_module_version": "1.5.0",
          "state": {
            "_dom_classes": [],
            "_model_module": "@jupyter-widgets/controls",
            "_model_module_version": "1.5.0",
            "_model_name": "FloatProgressModel",
            "_view_count": null,
            "_view_module": "@jupyter-widgets/controls",
            "_view_module_version": "1.5.0",
            "_view_name": "ProgressView",
            "bar_style": "success",
            "description": "",
            "description_tooltip": null,
            "layout": "IPY_MODEL_ad7867ef03a245efb20321234502983d",
            "max": 7,
            "min": 0,
            "orientation": "horizontal",
            "style": "IPY_MODEL_78f5fb33c5094279bc314406e817dd04",
            "value": 7
          }
        },
        "211e2dde1cab44348442456a78adef0d": {
          "model_module": "@jupyter-widgets/controls",
          "model_name": "HTMLModel",
          "model_module_version": "1.5.0",
          "state": {
            "_dom_classes": [],
            "_model_module": "@jupyter-widgets/controls",
            "_model_module_version": "1.5.0",
            "_model_name": "HTMLModel",
            "_view_count": null,
            "_view_module": "@jupyter-widgets/controls",
            "_view_module_version": "1.5.0",
            "_view_name": "HTMLView",
            "description": "",
            "description_tooltip": null,
            "layout": "IPY_MODEL_261c947cc1ae4da4b27e0ea5a6a1377c",
            "placeholder": "​",
            "style": "IPY_MODEL_95fba0b0e5fc45a0bd92786c75a2a2db",
            "value": " 7/7 [00:29&lt;00:00,  4.77s/it]"
          }
        },
        "53e79052050c4e309eb003f4d6fef01b": {
          "model_module": "@jupyter-widgets/base",
          "model_name": "LayoutModel",
          "model_module_version": "1.2.0",
          "state": {
            "_model_module": "@jupyter-widgets/base",
            "_model_module_version": "1.2.0",
            "_model_name": "LayoutModel",
            "_view_count": null,
            "_view_module": "@jupyter-widgets/base",
            "_view_module_version": "1.2.0",
            "_view_name": "LayoutView",
            "align_content": null,
            "align_items": null,
            "align_self": null,
            "border": null,
            "bottom": null,
            "display": null,
            "flex": null,
            "flex_flow": null,
            "grid_area": null,
            "grid_auto_columns": null,
            "grid_auto_flow": null,
            "grid_auto_rows": null,
            "grid_column": null,
            "grid_gap": null,
            "grid_row": null,
            "grid_template_areas": null,
            "grid_template_columns": null,
            "grid_template_rows": null,
            "height": null,
            "justify_content": null,
            "justify_items": null,
            "left": null,
            "margin": null,
            "max_height": null,
            "max_width": null,
            "min_height": null,
            "min_width": null,
            "object_fit": null,
            "object_position": null,
            "order": null,
            "overflow": null,
            "overflow_x": null,
            "overflow_y": null,
            "padding": null,
            "right": null,
            "top": null,
            "visibility": null,
            "width": null
          }
        },
        "855f816e94ec4b9d9ab61f2ac65c9ed9": {
          "model_module": "@jupyter-widgets/base",
          "model_name": "LayoutModel",
          "model_module_version": "1.2.0",
          "state": {
            "_model_module": "@jupyter-widgets/base",
            "_model_module_version": "1.2.0",
            "_model_name": "LayoutModel",
            "_view_count": null,
            "_view_module": "@jupyter-widgets/base",
            "_view_module_version": "1.2.0",
            "_view_name": "LayoutView",
            "align_content": null,
            "align_items": null,
            "align_self": null,
            "border": null,
            "bottom": null,
            "display": null,
            "flex": null,
            "flex_flow": null,
            "grid_area": null,
            "grid_auto_columns": null,
            "grid_auto_flow": null,
            "grid_auto_rows": null,
            "grid_column": null,
            "grid_gap": null,
            "grid_row": null,
            "grid_template_areas": null,
            "grid_template_columns": null,
            "grid_template_rows": null,
            "height": null,
            "justify_content": null,
            "justify_items": null,
            "left": null,
            "margin": null,
            "max_height": null,
            "max_width": null,
            "min_height": null,
            "min_width": null,
            "object_fit": null,
            "object_position": null,
            "order": null,
            "overflow": null,
            "overflow_x": null,
            "overflow_y": null,
            "padding": null,
            "right": null,
            "top": null,
            "visibility": null,
            "width": null
          }
        },
        "d754ced486214a3c90c39138710a1e10": {
          "model_module": "@jupyter-widgets/controls",
          "model_name": "DescriptionStyleModel",
          "model_module_version": "1.5.0",
          "state": {
            "_model_module": "@jupyter-widgets/controls",
            "_model_module_version": "1.5.0",
            "_model_name": "DescriptionStyleModel",
            "_view_count": null,
            "_view_module": "@jupyter-widgets/base",
            "_view_module_version": "1.2.0",
            "_view_name": "StyleView",
            "description_width": ""
          }
        },
        "ad7867ef03a245efb20321234502983d": {
          "model_module": "@jupyter-widgets/base",
          "model_name": "LayoutModel",
          "model_module_version": "1.2.0",
          "state": {
            "_model_module": "@jupyter-widgets/base",
            "_model_module_version": "1.2.0",
            "_model_name": "LayoutModel",
            "_view_count": null,
            "_view_module": "@jupyter-widgets/base",
            "_view_module_version": "1.2.0",
            "_view_name": "LayoutView",
            "align_content": null,
            "align_items": null,
            "align_self": null,
            "border": null,
            "bottom": null,
            "display": null,
            "flex": null,
            "flex_flow": null,
            "grid_area": null,
            "grid_auto_columns": null,
            "grid_auto_flow": null,
            "grid_auto_rows": null,
            "grid_column": null,
            "grid_gap": null,
            "grid_row": null,
            "grid_template_areas": null,
            "grid_template_columns": null,
            "grid_template_rows": null,
            "height": null,
            "justify_content": null,
            "justify_items": null,
            "left": null,
            "margin": null,
            "max_height": null,
            "max_width": null,
            "min_height": null,
            "min_width": null,
            "object_fit": null,
            "object_position": null,
            "order": null,
            "overflow": null,
            "overflow_x": null,
            "overflow_y": null,
            "padding": null,
            "right": null,
            "top": null,
            "visibility": null,
            "width": null
          }
        },
        "78f5fb33c5094279bc314406e817dd04": {
          "model_module": "@jupyter-widgets/controls",
          "model_name": "ProgressStyleModel",
          "model_module_version": "1.5.0",
          "state": {
            "_model_module": "@jupyter-widgets/controls",
            "_model_module_version": "1.5.0",
            "_model_name": "ProgressStyleModel",
            "_view_count": null,
            "_view_module": "@jupyter-widgets/base",
            "_view_module_version": "1.2.0",
            "_view_name": "StyleView",
            "bar_color": null,
            "description_width": ""
          }
        },
        "261c947cc1ae4da4b27e0ea5a6a1377c": {
          "model_module": "@jupyter-widgets/base",
          "model_name": "LayoutModel",
          "model_module_version": "1.2.0",
          "state": {
            "_model_module": "@jupyter-widgets/base",
            "_model_module_version": "1.2.0",
            "_model_name": "LayoutModel",
            "_view_count": null,
            "_view_module": "@jupyter-widgets/base",
            "_view_module_version": "1.2.0",
            "_view_name": "LayoutView",
            "align_content": null,
            "align_items": null,
            "align_self": null,
            "border": null,
            "bottom": null,
            "display": null,
            "flex": null,
            "flex_flow": null,
            "grid_area": null,
            "grid_auto_columns": null,
            "grid_auto_flow": null,
            "grid_auto_rows": null,
            "grid_column": null,
            "grid_gap": null,
            "grid_row": null,
            "grid_template_areas": null,
            "grid_template_columns": null,
            "grid_template_rows": null,
            "height": null,
            "justify_content": null,
            "justify_items": null,
            "left": null,
            "margin": null,
            "max_height": null,
            "max_width": null,
            "min_height": null,
            "min_width": null,
            "object_fit": null,
            "object_position": null,
            "order": null,
            "overflow": null,
            "overflow_x": null,
            "overflow_y": null,
            "padding": null,
            "right": null,
            "top": null,
            "visibility": null,
            "width": null
          }
        },
        "95fba0b0e5fc45a0bd92786c75a2a2db": {
          "model_module": "@jupyter-widgets/controls",
          "model_name": "DescriptionStyleModel",
          "model_module_version": "1.5.0",
          "state": {
            "_model_module": "@jupyter-widgets/controls",
            "_model_module_version": "1.5.0",
            "_model_name": "DescriptionStyleModel",
            "_view_count": null,
            "_view_module": "@jupyter-widgets/base",
            "_view_module_version": "1.2.0",
            "_view_name": "StyleView",
            "description_width": ""
          }
        }
      }
    }
  },
  "nbformat": 4,
  "nbformat_minor": 5
}