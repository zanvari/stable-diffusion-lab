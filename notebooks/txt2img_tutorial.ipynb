{
 "cells": [
  {
   "cell_type": "markdown",
   "id": "e002a129",
   "metadata": {
    "id": "e002a129"
   },
   "source": [
    "# 🧪 Stable Diffusion - Text-to-Image Demo\n",
    "\n",
    "This notebook shows how to generate images from text prompts using the Stable Diffusion model with HuggingFace's `diffusers` library."
   ]
  },
  {
   "cell_type": "markdown",
   "id": "ac6d6371",
   "metadata": {
    "id": "ac6d6371"
   },
   "source": [
    "\n",
    "## 📝 Overview\n",
    "\n",
    "This notebook demonstrates **Text-to-Image generation** using the `StableDiffusionPipeline` from Hugging Face's `diffusers` library.\n",
    "\n",
    "You'll learn how to:\n",
    "- Load and use the pretrained model\n",
    "- Generate images from textual descriptions (prompts)\n",
    "- Compare visual outputs of different prompts\n"
   ]
  },
  {
   "cell_type": "code",
   "execution_count": null,
   "id": "ff5def74",
   "metadata": {
    "id": "ff5def74"
   },
   "outputs": [],
   "source": [
    "!pip install diffusers transformers accelerate safetensors Pillow matplotlib --quiet"
   ]
  },
  {
   "cell_type": "code",
   "execution_count": null,
   "id": "8b3a1946",
   "metadata": {
    "id": "8b3a1946"
   },
   "outputs": [],
   "source": [
    "from diffusers import StableDiffusionPipeline\n",
    "import torch\n",
    "from PIL import Image\n",
    "import matplotlib.pyplot as plt"
   ]
  },
  {
   "cell_type": "code",
   "execution_count": null,
   "id": "d06d0f0d",
   "metadata": {
    "colab": {
     "base_uri": "https://localhost:8080/",
     "height": 49,
     "referenced_widgets": [
      "bb4a6d6561c24a27b693960a916a4849",
      "2da3fc30ff61481fa3a14c344aca934f",
      "65f40407ee59401e8846e1746f4dc494",
      "211e2dde1cab44348442456a78adef0d",
      "53e79052050c4e309eb003f4d6fef01b",
      "855f816e94ec4b9d9ab61f2ac65c9ed9",
      "d754ced486214a3c90c39138710a1e10",
      "ad7867ef03a245efb20321234502983d",
      "78f5fb33c5094279bc314406e817dd04",
      "261c947cc1ae4da4b27e0ea5a6a1377c",
      "95fba0b0e5fc45a0bd92786c75a2a2db"
     ]
    },
    "id": "d06d0f0d",
    "outputId": "393a4dc5-f546-4b9b-e6d8-7cdc36c1ab2a"
   },
   "outputs": [
    {
     "data": {
      "application/vnd.jupyter.widget-view+json": {
       "model_id": "bb4a6d6561c24a27b693960a916a4849",
       "version_major": 2,
       "version_minor": 0
      },
      "text/plain": [
       "Loading pipeline components...:   0%|          | 0/7 [00:00<?, ?it/s]"
      ]
     },
     "metadata": {},
     "output_type": "display_data"
    }
   ],
   "source": [
    "model_id = \"runwayml/stable-diffusion-v1-5\"\n",
    "pipe = StableDiffusionPipeline.from_pretrained(model_id, torch_dtype=torch.float16)\n",
    "pipe = pipe.to(\"cuda\" if torch.cuda.is_available() else \"cpu\")"
   ]
  },
  {
   "cell_type": "code",
   "execution_count": null,
   "id": "3dccb914",
   "metadata": {
    "id": "3dccb914"
   },
   "outputs": [],
   "source": [
    "import matplotlib.pyplot as plt\n",
    "\n",
    "prompt = \"A fantasy landscape with flying whales and glowing mushrooms\"\n",
    "image = pipe(prompt).images[0]\n",
    "image.save(\"fantasy_landscape.png\")\n",
    "\n",
    "plt.imshow(image)\n",
    "plt.axis(\"off\")\n",
    "plt.show()"
   ]
  },
  {
   "cell_type": "markdown",
   "id": "dc671dab",
   "metadata": {
    "id": "dc671dab"
   },
   "source": [
    "## 🎨 Prompt Comparison"
   ]
  },
  {
   "cell_type": "code",
   "execution_count": null,
   "id": "dd858690",
   "metadata": {
    "id": "dd858690"
   },
   "outputs": [],
   "source": [
    "prompts = [\n",
    "    \"A futuristic cityscape at sunset\",\n",
    "    \"A medieval castle in the mountains\",\n",
    "    \"An astronaut riding a horse on Mars\",\n",
    "    \"A cyberpunk Tokyo street at night\"\n",
    "]\n",
    "\n",
    "images = []\n",
    "for p in prompts:\n",
    "    img = pipe(p).images[0]\n",
    "    images.append((p, img))\n",
    "\n",
    "fig, axs = plt.subplots(1, len(images), figsize=(18, 4))\n",
    "for i, (caption, img) in enumerate(images):\n",
    "    axs[i].imshow(img)\n",
    "    axs[i].axis(\"off\")\n",
    "    axs[i].set_title(caption, fontsize=8)\n",
    "plt.tight_layout()\n",
    "plt.show()"
   ]
  },
  {
   "cell_type": "markdown",
   "id": "5b2e32e8",
   "metadata": {
    "id": "5b2e32e8"
   },
   "source": [
    "\n",
    "## ✅ Summary\n",
    "\n",
    "You’ve now seen how to generate compelling visuals using simple text prompts.\n",
    "Feel free to explore more prompts, combine concepts creatively, and push the limits of prompt engineering!\n"
   ]
  }
 ],
 "metadata": {
  "accelerator": "GPU",
  "colab": {
   "gpuType": "T4",
   "provenance": []
  },
  "kernelspec": {
   "display_name": "Python 3",
   "name": "python3"
  },
  "language_info": {
   "name": "python"
  }
 },
 "nbformat": 4,
 "nbformat_minor": 5
}
