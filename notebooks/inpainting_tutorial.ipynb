{
  "cells": [
    {
      "cell_type": "markdown",
      "id": "ba62e1c6",
      "metadata": {
        "id": "ba62e1c6"
      },
      "source": [
        "# 🎨 Stable Diffusion Inpainting Demo\n",
        "\n",
        "This notebook shows how to use Stable Diffusion to inpaint parts of an image using a mask."
      ]
    },
    {
      "cell_type": "markdown",
      "id": "7e05f6dc",
      "metadata": {
        "id": "7e05f6dc"
      },
      "source": [
        "\n",
        "## 📝 Overview\n",
        "\n",
        "This notebook walks through the process of **inpainting**—modifying specific parts of an image based on a mask and a text prompt—using the `StableDiffusionInpaintPipeline`.\n",
        "\n",
        "You'll learn how to:\n",
        "- Load image and mask inputs\n",
        "- Apply inpainting to replace or modify image regions\n",
        "- Generate artistic edits guided by natural language prompts\n"
      ]
    },
    {
      "cell_type": "code",
      "execution_count": null,
      "id": "d24a3b23",
      "metadata": {
        "id": "d24a3b23"
      },
      "outputs": [],
      "source": [
        "!pip install diffusers transformers accelerate safetensors Pillow matplotlib --quiet"
      ]
    },
    {
      "cell_type": "code",
      "execution_count": null,
      "id": "55d45cfc",
      "metadata": {
        "colab": {
          "base_uri": "https://localhost:8080/",
          "height": 49,
          "referenced_widgets": [
            "22845227f03347558a1cb4c081d15497",
            "79bc8d4158bd49b5825d79f419fa06df",
            "5afb19051ec148c88eac9787f0edc183",
            "d6b942fd4eb8490c9a68233ce5bdaba5",
            "4ff53f5e0d4a4af78f914f5bff592c6b",
            "90b10ec7f09747ab95859a8d05516149",
            "3f1b3f92c5c84f7296dda5d5fb5a302c",
            "3c590a9def3941e19424d58b2cf791ea",
            "9827f134bc63409fb30a6040597ee889",
            "1e54a9b9938a4a00998eda6588843896",
            "46d8ed7c2f5649fe9566caf4579fd047"
          ]
        },
        "id": "55d45cfc",
        "outputId": "ea072cb1-9685-4adc-da09-7a3e44988429"
      },
      "outputs": [
        {
          "output_type": "display_data",
          "data": {
            "text/plain": [
              "Loading pipeline components...:   0%|          | 0/6 [00:00<?, ?it/s]"
            ],
            "application/vnd.jupyter.widget-view+json": {
              "version_major": 2,
              "version_minor": 0,
              "model_id": "22845227f03347558a1cb4c081d15497"
            }
          },
          "metadata": {}
        }
      ],
      "source": [
        "from diffusers import StableDiffusionInpaintPipeline\n",
        "import torch\n",
        "from PIL import Image\n",
        "import requests\n",
        "import matplotlib.pyplot as plt\n",
        "\n",
        "pipe = StableDiffusionInpaintPipeline.from_pretrained(\n",
        "    \"stabilityai/stable-diffusion-2-inpainting\",\n",
        "    torch_dtype=torch.float16\n",
        ").to(\"cuda\" if torch.cuda.is_available() else \"cpu\")"
      ]
    },
    {
      "cell_type": "markdown",
      "id": "3be49f05",
      "metadata": {
        "id": "3be49f05"
      },
      "source": [
        "### 🖼️ Load Image and Mask"
      ]
    },
    {
      "cell_type": "code",
      "execution_count": null,
      "id": "914267f3",
      "metadata": {
        "id": "914267f3"
      },
      "outputs": [],
      "source": [
        "import matplotlib.pyplot as plt\n",
        "\n",
        "# Valid image and mask from CompVis\n",
        "url_image = \"https://raw.githubusercontent.com/CompVis/latent-diffusion/main/data/inpainting_examples/billow926-12-Wc-Zgx6Y.png\"\n",
        "url_mask  = \"https://raw.githubusercontent.com/CompVis/latent-diffusion/main/data/inpainting_examples/billow926-12-Wc-Zgx6Y_mask.png\"\n",
        "\n",
        "image = Image.open(requests.get(url_image, stream=True).raw).convert(\"RGB\").resize((512, 512))\n",
        "mask  = Image.open(requests.get(url_mask, stream=True).raw).convert(\"L\").resize((512, 512))\n",
        "\n",
        "image.save(\"inpainting_input.png\")\n",
        "mask.save(\"inpainting_mask.png\")\n",
        "\n",
        "plt.imshow(image)\n",
        "plt.axis(\"off\")\n",
        "plt.show()\n",
        "\n",
        "plt.imshow(mask)\n",
        "plt.axis(\"off\")\n",
        "plt.show()"
      ]
    },
    {
      "cell_type": "markdown",
      "id": "d491ab69",
      "metadata": {
        "id": "d491ab69"
      },
      "source": [
        "### 🧠 Run Inpainting"
      ]
    },
    {
      "cell_type": "code",
      "execution_count": null,
      "id": "2207113e",
      "metadata": {
        "id": "2207113e"
      },
      "outputs": [],
      "source": [
        "prompt = \"A beautiful green landscape replacing the masked area\"\n",
        "output = pipe(prompt=prompt, image=image, mask_image=mask).images[0]\n",
        "output.save(\"inpainting_output.png\")\n",
        "\n",
        "plt.imshow(output)\n",
        "plt.axis(\"off\")\n",
        "plt.show()"
      ]
    },
    {
      "cell_type": "markdown",
      "id": "019fa3c9",
      "metadata": {
        "id": "019fa3c9"
      },
      "source": [
        "\n",
        "## ✅ Summary\n",
        "\n",
        "You’ve learned how to use inpainting to fill in or modify parts of an image using Stable Diffusion and masks. This is a powerful way to create content-aware edits or enhancements.\n"
      ]
    }
  ],
  "metadata": {
    "colab": {
      "provenance": [],
      "gpuType": "T4"
    },
    "accelerator": "GPU",
    "language_info": {
      "name": "python"
    },
    "kernelspec": {
      "name": "python3",
      "display_name": "Python 3"
    },
    "widgets": {
      "application/vnd.jupyter.widget-state+json": {
        "22845227f03347558a1cb4c081d15497": {
          "model_module": "@jupyter-widgets/controls",
          "model_name": "HBoxModel",
          "model_module_version": "1.5.0",
          "state": {
            "_dom_classes": [],
            "_model_module": "@jupyter-widgets/controls",
            "_model_module_version": "1.5.0",
            "_model_name": "HBoxModel",
            "_view_count": null,
            "_view_module": "@jupyter-widgets/controls",
            "_view_module_version": "1.5.0",
            "_view_name": "HBoxView",
            "box_style": "",
            "children": [
              "IPY_MODEL_79bc8d4158bd49b5825d79f419fa06df",
              "IPY_MODEL_5afb19051ec148c88eac9787f0edc183",
              "IPY_MODEL_d6b942fd4eb8490c9a68233ce5bdaba5"
            ],
            "layout": "IPY_MODEL_4ff53f5e0d4a4af78f914f5bff592c6b"
          }
        },
        "79bc8d4158bd49b5825d79f419fa06df": {
          "model_module": "@jupyter-widgets/controls",
          "model_name": "HTMLModel",
          "model_module_version": "1.5.0",
          "state": {
            "_dom_classes": [],
            "_model_module": "@jupyter-widgets/controls",
            "_model_module_version": "1.5.0",
            "_model_name": "HTMLModel",
            "_view_count": null,
            "_view_module": "@jupyter-widgets/controls",
            "_view_module_version": "1.5.0",
            "_view_name": "HTMLView",
            "description": "",
            "description_tooltip": null,
            "layout": "IPY_MODEL_90b10ec7f09747ab95859a8d05516149",
            "placeholder": "​",
            "style": "IPY_MODEL_3f1b3f92c5c84f7296dda5d5fb5a302c",
            "value": "Loading pipeline components...: 100%"
          }
        },
        "5afb19051ec148c88eac9787f0edc183": {
          "model_module": "@jupyter-widgets/controls",
          "model_name": "FloatProgressModel",
          "model_module_version": "1.5.0",
          "state": {
            "_dom_classes": [],
            "_model_module": "@jupyter-widgets/controls",
            "_model_module_version": "1.5.0",
            "_model_name": "FloatProgressModel",
            "_view_count": null,
            "_view_module": "@jupyter-widgets/controls",
            "_view_module_version": "1.5.0",
            "_view_name": "ProgressView",
            "bar_style": "success",
            "description": "",
            "description_tooltip": null,
            "layout": "IPY_MODEL_3c590a9def3941e19424d58b2cf791ea",
            "max": 6,
            "min": 0,
            "orientation": "horizontal",
            "style": "IPY_MODEL_9827f134bc63409fb30a6040597ee889",
            "value": 6
          }
        },
        "d6b942fd4eb8490c9a68233ce5bdaba5": {
          "model_module": "@jupyter-widgets/controls",
          "model_name": "HTMLModel",
          "model_module_version": "1.5.0",
          "state": {
            "_dom_classes": [],
            "_model_module": "@jupyter-widgets/controls",
            "_model_module_version": "1.5.0",
            "_model_name": "HTMLModel",
            "_view_count": null,
            "_view_module": "@jupyter-widgets/controls",
            "_view_module_version": "1.5.0",
            "_view_name": "HTMLView",
            "description": "",
            "description_tooltip": null,
            "layout": "IPY_MODEL_1e54a9b9938a4a00998eda6588843896",
            "placeholder": "​",
            "style": "IPY_MODEL_46d8ed7c2f5649fe9566caf4579fd047",
            "value": " 6/6 [00:22&lt;00:00,  3.11s/it]"
          }
        },
        "4ff53f5e0d4a4af78f914f5bff592c6b": {
          "model_module": "@jupyter-widgets/base",
          "model_name": "LayoutModel",
          "model_module_version": "1.2.0",
          "state": {
            "_model_module": "@jupyter-widgets/base",
            "_model_module_version": "1.2.0",
            "_model_name": "LayoutModel",
            "_view_count": null,
            "_view_module": "@jupyter-widgets/base",
            "_view_module_version": "1.2.0",
            "_view_name": "LayoutView",
            "align_content": null,
            "align_items": null,
            "align_self": null,
            "border": null,
            "bottom": null,
            "display": null,
            "flex": null,
            "flex_flow": null,
            "grid_area": null,
            "grid_auto_columns": null,
            "grid_auto_flow": null,
            "grid_auto_rows": null,
            "grid_column": null,
            "grid_gap": null,
            "grid_row": null,
            "grid_template_areas": null,
            "grid_template_columns": null,
            "grid_template_rows": null,
            "height": null,
            "justify_content": null,
            "justify_items": null,
            "left": null,
            "margin": null,
            "max_height": null,
            "max_width": null,
            "min_height": null,
            "min_width": null,
            "object_fit": null,
            "object_position": null,
            "order": null,
            "overflow": null,
            "overflow_x": null,
            "overflow_y": null,
            "padding": null,
            "right": null,
            "top": null,
            "visibility": null,
            "width": null
          }
        },
        "90b10ec7f09747ab95859a8d05516149": {
          "model_module": "@jupyter-widgets/base",
          "model_name": "LayoutModel",
          "model_module_version": "1.2.0",
          "state": {
            "_model_module": "@jupyter-widgets/base",
            "_model_module_version": "1.2.0",
            "_model_name": "LayoutModel",
            "_view_count": null,
            "_view_module": "@jupyter-widgets/base",
            "_view_module_version": "1.2.0",
            "_view_name": "LayoutView",
            "align_content": null,
            "align_items": null,
            "align_self": null,
            "border": null,
            "bottom": null,
            "display": null,
            "flex": null,
            "flex_flow": null,
            "grid_area": null,
            "grid_auto_columns": null,
            "grid_auto_flow": null,
            "grid_auto_rows": null,
            "grid_column": null,
            "grid_gap": null,
            "grid_row": null,
            "grid_template_areas": null,
            "grid_template_columns": null,
            "grid_template_rows": null,
            "height": null,
            "justify_content": null,
            "justify_items": null,
            "left": null,
            "margin": null,
            "max_height": null,
            "max_width": null,
            "min_height": null,
            "min_width": null,
            "object_fit": null,
            "object_position": null,
            "order": null,
            "overflow": null,
            "overflow_x": null,
            "overflow_y": null,
            "padding": null,
            "right": null,
            "top": null,
            "visibility": null,
            "width": null
          }
        },
        "3f1b3f92c5c84f7296dda5d5fb5a302c": {
          "model_module": "@jupyter-widgets/controls",
          "model_name": "DescriptionStyleModel",
          "model_module_version": "1.5.0",
          "state": {
            "_model_module": "@jupyter-widgets/controls",
            "_model_module_version": "1.5.0",
            "_model_name": "DescriptionStyleModel",
            "_view_count": null,
            "_view_module": "@jupyter-widgets/base",
            "_view_module_version": "1.2.0",
            "_view_name": "StyleView",
            "description_width": ""
          }
        },
        "3c590a9def3941e19424d58b2cf791ea": {
          "model_module": "@jupyter-widgets/base",
          "model_name": "LayoutModel",
          "model_module_version": "1.2.0",
          "state": {
            "_model_module": "@jupyter-widgets/base",
            "_model_module_version": "1.2.0",
            "_model_name": "LayoutModel",
            "_view_count": null,
            "_view_module": "@jupyter-widgets/base",
            "_view_module_version": "1.2.0",
            "_view_name": "LayoutView",
            "align_content": null,
            "align_items": null,
            "align_self": null,
            "border": null,
            "bottom": null,
            "display": null,
            "flex": null,
            "flex_flow": null,
            "grid_area": null,
            "grid_auto_columns": null,
            "grid_auto_flow": null,
            "grid_auto_rows": null,
            "grid_column": null,
            "grid_gap": null,
            "grid_row": null,
            "grid_template_areas": null,
            "grid_template_columns": null,
            "grid_template_rows": null,
            "height": null,
            "justify_content": null,
            "justify_items": null,
            "left": null,
            "margin": null,
            "max_height": null,
            "max_width": null,
            "min_height": null,
            "min_width": null,
            "object_fit": null,
            "object_position": null,
            "order": null,
            "overflow": null,
            "overflow_x": null,
            "overflow_y": null,
            "padding": null,
            "right": null,
            "top": null,
            "visibility": null,
            "width": null
          }
        },
        "9827f134bc63409fb30a6040597ee889": {
          "model_module": "@jupyter-widgets/controls",
          "model_name": "ProgressStyleModel",
          "model_module_version": "1.5.0",
          "state": {
            "_model_module": "@jupyter-widgets/controls",
            "_model_module_version": "1.5.0",
            "_model_name": "ProgressStyleModel",
            "_view_count": null,
            "_view_module": "@jupyter-widgets/base",
            "_view_module_version": "1.2.0",
            "_view_name": "StyleView",
            "bar_color": null,
            "description_width": ""
          }
        },
        "1e54a9b9938a4a00998eda6588843896": {
          "model_module": "@jupyter-widgets/base",
          "model_name": "LayoutModel",
          "model_module_version": "1.2.0",
          "state": {
            "_model_module": "@jupyter-widgets/base",
            "_model_module_version": "1.2.0",
            "_model_name": "LayoutModel",
            "_view_count": null,
            "_view_module": "@jupyter-widgets/base",
            "_view_module_version": "1.2.0",
            "_view_name": "LayoutView",
            "align_content": null,
            "align_items": null,
            "align_self": null,
            "border": null,
            "bottom": null,
            "display": null,
            "flex": null,
            "flex_flow": null,
            "grid_area": null,
            "grid_auto_columns": null,
            "grid_auto_flow": null,
            "grid_auto_rows": null,
            "grid_column": null,
            "grid_gap": null,
            "grid_row": null,
            "grid_template_areas": null,
            "grid_template_columns": null,
            "grid_template_rows": null,
            "height": null,
            "justify_content": null,
            "justify_items": null,
            "left": null,
            "margin": null,
            "max_height": null,
            "max_width": null,
            "min_height": null,
            "min_width": null,
            "object_fit": null,
            "object_position": null,
            "order": null,
            "overflow": null,
            "overflow_x": null,
            "overflow_y": null,
            "padding": null,
            "right": null,
            "top": null,
            "visibility": null,
            "width": null
          }
        },
        "46d8ed7c2f5649fe9566caf4579fd047": {
          "model_module": "@jupyter-widgets/controls",
          "model_name": "DescriptionStyleModel",
          "model_module_version": "1.5.0",
          "state": {
            "_model_module": "@jupyter-widgets/controls",
            "_model_module_version": "1.5.0",
            "_model_name": "DescriptionStyleModel",
            "_view_count": null,
            "_view_module": "@jupyter-widgets/base",
            "_view_module_version": "1.2.0",
            "_view_name": "StyleView",
            "description_width": ""
          }
        }
      }
    }
  },
  "nbformat": 4,
  "nbformat_minor": 5
}