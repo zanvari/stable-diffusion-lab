{
  "cells": [
    {
      "cell_type": "markdown",
      "id": "da5be364",
      "metadata": {
        "id": "da5be364"
      },
      "source": [
        "# 🔄 Stable Diffusion Image-to-Image Demo\n",
        "\n",
        "Use an input image and a prompt to generate a new image using Stable Diffusion."
      ]
    },
    {
      "cell_type": "markdown",
      "id": "195826a1",
      "metadata": {
        "id": "195826a1"
      },
      "source": [
        "\n",
        "## 📝 Overview\n",
        "\n",
        "This notebook demonstrates how to use **Image-to-Image** generation with Stable Diffusion to transform an input image based on a prompt.\n",
        "\n",
        "You'll learn how to:\n",
        "- Load a starting image\n",
        "- Use `StableDiffusionImg2ImgPipeline`\n",
        "- Apply prompts to guide the transformation of an image\n"
      ]
    },
    {
      "cell_type": "code",
      "execution_count": null,
      "id": "42a88b08",
      "metadata": {
        "id": "42a88b08"
      },
      "outputs": [],
      "source": [
        "!pip install diffusers transformers accelerate safetensors Pillow matplotlib --quiet"
      ]
    },
    {
      "cell_type": "code",
      "execution_count": null,
      "id": "04ae4d84",
      "metadata": {
        "colab": {
          "base_uri": "https://localhost:8080/",
          "height": 49,
          "referenced_widgets": [
            "ff6a4e2ebb544cf98375feac787869a4",
            "6983591e24d64a08bc76bbe9c79f14fc",
            "9054ff6348044f868a7c1acd3a7c145a",
            "0819d873fe754c55aaeb49ead0fde4f6",
            "c2b8f12e4efa472eb98710b2bc1d6154",
            "4db742c0281043db933259620aa3283d",
            "35f0e23ce4b7410cb653c7f7a4789b7a",
            "fc3998bb13d64216965b2a2c181ab2dd",
            "5af97a283bf34891bbc6fbc929773c4f",
            "c34892f9083046c48a9b82abf33812eb",
            "79baacec22fb47a9b82e35eb60f5de29"
          ]
        },
        "id": "04ae4d84",
        "outputId": "d7d479fa-c616-46e3-c3c4-6e9c38a5b396"
      },
      "outputs": [
        {
          "output_type": "display_data",
          "data": {
            "text/plain": [
              "Loading pipeline components...:   0%|          | 0/7 [00:00<?, ?it/s]"
            ],
            "application/vnd.jupyter.widget-view+json": {
              "version_major": 2,
              "version_minor": 0,
              "model_id": "ff6a4e2ebb544cf98375feac787869a4"
            }
          },
          "metadata": {}
        }
      ],
      "source": [
        "from diffusers import StableDiffusionImg2ImgPipeline\n",
        "import torch\n",
        "from PIL import Image\n",
        "import requests\n",
        "import matplotlib.pyplot as plt\n",
        "\n",
        "pipe = StableDiffusionImg2ImgPipeline.from_pretrained(\n",
        "    \"runwayml/stable-diffusion-v1-5\", torch_dtype=torch.float16\n",
        ").to(\"cuda\" if torch.cuda.is_available() else \"cpu\")"
      ]
    },
    {
      "cell_type": "markdown",
      "id": "d56762f7",
      "metadata": {
        "id": "d56762f7"
      },
      "source": [
        "### 🖼️ Load Input Image"
      ]
    },
    {
      "cell_type": "code",
      "execution_count": null,
      "id": "6390844c",
      "metadata": {
        "id": "6390844c"
      },
      "outputs": [],
      "source": [
        "import matplotlib.pyplot as plt\n",
        "\n",
        "url = \"https://raw.githubusercontent.com/CompVis/stable-diffusion/main/assets/stable-samples/img2img/sketch-mountains-input.jpg\"\n",
        "init_image = Image.open(requests.get(url, stream=True).raw).convert(\"RGB\").resize((512, 512))\n",
        "init_image.save(\"img2img_input.png\")\n",
        "\n",
        "plt.imshow(init_image)\n",
        "plt.axis(\"off\")\n",
        "plt.show()"
      ]
    },
    {
      "cell_type": "markdown",
      "id": "21e63ae5",
      "metadata": {
        "id": "21e63ae5"
      },
      "source": [
        "### 🔁 Generate New Image"
      ]
    },
    {
      "cell_type": "code",
      "execution_count": null,
      "id": "49bc4d37",
      "metadata": {
        "id": "49bc4d37"
      },
      "outputs": [],
      "source": [
        "prompt = \"A fantasy mountain range with glowing waterfalls\"\n",
        "strength = 0.75  # how much to transform the original (0 = original, 1 = full gen)\n",
        "\n",
        "output = pipe(prompt=prompt, image=init_image, strength=strength, guidance_scale=7.5).images[0]\n",
        "output.save(\"img2img_output.png\")\n",
        "\n",
        "plt.imshow(output)\n",
        "plt.axis(\"off\")\n",
        "plt.show()"
      ]
    },
    {
      "cell_type": "markdown",
      "id": "d487009b",
      "metadata": {
        "id": "d487009b"
      },
      "source": [
        "\n",
        "## ✅ Summary\n",
        "\n",
        "Using image-to-image generation, you can blend the structure of an image with creative guidance from a prompt—ideal for concept sketching, enhancement, and stylization.\n"
      ]
    }
  ],
  "metadata": {
    "colab": {
      "provenance": [],
      "gpuType": "T4"
    },
    "accelerator": "GPU",
    "language_info": {
      "name": "python"
    },
    "kernelspec": {
      "name": "python3",
      "display_name": "Python 3"
    },
    "widgets": {
      "application/vnd.jupyter.widget-state+json": {
        "ff6a4e2ebb544cf98375feac787869a4": {
          "model_module": "@jupyter-widgets/controls",
          "model_name": "HBoxModel",
          "model_module_version": "1.5.0",
          "state": {
            "_dom_classes": [],
            "_model_module": "@jupyter-widgets/controls",
            "_model_module_version": "1.5.0",
            "_model_name": "HBoxModel",
            "_view_count": null,
            "_view_module": "@jupyter-widgets/controls",
            "_view_module_version": "1.5.0",
            "_view_name": "HBoxView",
            "box_style": "",
            "children": [
              "IPY_MODEL_6983591e24d64a08bc76bbe9c79f14fc",
              "IPY_MODEL_9054ff6348044f868a7c1acd3a7c145a",
              "IPY_MODEL_0819d873fe754c55aaeb49ead0fde4f6"
            ],
            "layout": "IPY_MODEL_c2b8f12e4efa472eb98710b2bc1d6154"
          }
        },
        "6983591e24d64a08bc76bbe9c79f14fc": {
          "model_module": "@jupyter-widgets/controls",
          "model_name": "HTMLModel",
          "model_module_version": "1.5.0",
          "state": {
            "_dom_classes": [],
            "_model_module": "@jupyter-widgets/controls",
            "_model_module_version": "1.5.0",
            "_model_name": "HTMLModel",
            "_view_count": null,
            "_view_module": "@jupyter-widgets/controls",
            "_view_module_version": "1.5.0",
            "_view_name": "HTMLView",
            "description": "",
            "description_tooltip": null,
            "layout": "IPY_MODEL_4db742c0281043db933259620aa3283d",
            "placeholder": "​",
            "style": "IPY_MODEL_35f0e23ce4b7410cb653c7f7a4789b7a",
            "value": "Loading pipeline components...: 100%"
          }
        },
        "9054ff6348044f868a7c1acd3a7c145a": {
          "model_module": "@jupyter-widgets/controls",
          "model_name": "FloatProgressModel",
          "model_module_version": "1.5.0",
          "state": {
            "_dom_classes": [],
            "_model_module": "@jupyter-widgets/controls",
            "_model_module_version": "1.5.0",
            "_model_name": "FloatProgressModel",
            "_view_count": null,
            "_view_module": "@jupyter-widgets/controls",
            "_view_module_version": "1.5.0",
            "_view_name": "ProgressView",
            "bar_style": "success",
            "description": "",
            "description_tooltip": null,
            "layout": "IPY_MODEL_fc3998bb13d64216965b2a2c181ab2dd",
            "max": 7,
            "min": 0,
            "orientation": "horizontal",
            "style": "IPY_MODEL_5af97a283bf34891bbc6fbc929773c4f",
            "value": 7
          }
        },
        "0819d873fe754c55aaeb49ead0fde4f6": {
          "model_module": "@jupyter-widgets/controls",
          "model_name": "HTMLModel",
          "model_module_version": "1.5.0",
          "state": {
            "_dom_classes": [],
            "_model_module": "@jupyter-widgets/controls",
            "_model_module_version": "1.5.0",
            "_model_name": "HTMLModel",
            "_view_count": null,
            "_view_module": "@jupyter-widgets/controls",
            "_view_module_version": "1.5.0",
            "_view_name": "HTMLView",
            "description": "",
            "description_tooltip": null,
            "layout": "IPY_MODEL_c34892f9083046c48a9b82abf33812eb",
            "placeholder": "​",
            "style": "IPY_MODEL_79baacec22fb47a9b82e35eb60f5de29",
            "value": " 7/7 [00:25&lt;00:00,  4.96s/it]"
          }
        },
        "c2b8f12e4efa472eb98710b2bc1d6154": {
          "model_module": "@jupyter-widgets/base",
          "model_name": "LayoutModel",
          "model_module_version": "1.2.0",
          "state": {
            "_model_module": "@jupyter-widgets/base",
            "_model_module_version": "1.2.0",
            "_model_name": "LayoutModel",
            "_view_count": null,
            "_view_module": "@jupyter-widgets/base",
            "_view_module_version": "1.2.0",
            "_view_name": "LayoutView",
            "align_content": null,
            "align_items": null,
            "align_self": null,
            "border": null,
            "bottom": null,
            "display": null,
            "flex": null,
            "flex_flow": null,
            "grid_area": null,
            "grid_auto_columns": null,
            "grid_auto_flow": null,
            "grid_auto_rows": null,
            "grid_column": null,
            "grid_gap": null,
            "grid_row": null,
            "grid_template_areas": null,
            "grid_template_columns": null,
            "grid_template_rows": null,
            "height": null,
            "justify_content": null,
            "justify_items": null,
            "left": null,
            "margin": null,
            "max_height": null,
            "max_width": null,
            "min_height": null,
            "min_width": null,
            "object_fit": null,
            "object_position": null,
            "order": null,
            "overflow": null,
            "overflow_x": null,
            "overflow_y": null,
            "padding": null,
            "right": null,
            "top": null,
            "visibility": null,
            "width": null
          }
        },
        "4db742c0281043db933259620aa3283d": {
          "model_module": "@jupyter-widgets/base",
          "model_name": "LayoutModel",
          "model_module_version": "1.2.0",
          "state": {
            "_model_module": "@jupyter-widgets/base",
            "_model_module_version": "1.2.0",
            "_model_name": "LayoutModel",
            "_view_count": null,
            "_view_module": "@jupyter-widgets/base",
            "_view_module_version": "1.2.0",
            "_view_name": "LayoutView",
            "align_content": null,
            "align_items": null,
            "align_self": null,
            "border": null,
            "bottom": null,
            "display": null,
            "flex": null,
            "flex_flow": null,
            "grid_area": null,
            "grid_auto_columns": null,
            "grid_auto_flow": null,
            "grid_auto_rows": null,
            "grid_column": null,
            "grid_gap": null,
            "grid_row": null,
            "grid_template_areas": null,
            "grid_template_columns": null,
            "grid_template_rows": null,
            "height": null,
            "justify_content": null,
            "justify_items": null,
            "left": null,
            "margin": null,
            "max_height": null,
            "max_width": null,
            "min_height": null,
            "min_width": null,
            "object_fit": null,
            "object_position": null,
            "order": null,
            "overflow": null,
            "overflow_x": null,
            "overflow_y": null,
            "padding": null,
            "right": null,
            "top": null,
            "visibility": null,
            "width": null
          }
        },
        "35f0e23ce4b7410cb653c7f7a4789b7a": {
          "model_module": "@jupyter-widgets/controls",
          "model_name": "DescriptionStyleModel",
          "model_module_version": "1.5.0",
          "state": {
            "_model_module": "@jupyter-widgets/controls",
            "_model_module_version": "1.5.0",
            "_model_name": "DescriptionStyleModel",
            "_view_count": null,
            "_view_module": "@jupyter-widgets/base",
            "_view_module_version": "1.2.0",
            "_view_name": "StyleView",
            "description_width": ""
          }
        },
        "fc3998bb13d64216965b2a2c181ab2dd": {
          "model_module": "@jupyter-widgets/base",
          "model_name": "LayoutModel",
          "model_module_version": "1.2.0",
          "state": {
            "_model_module": "@jupyter-widgets/base",
            "_model_module_version": "1.2.0",
            "_model_name": "LayoutModel",
            "_view_count": null,
            "_view_module": "@jupyter-widgets/base",
            "_view_module_version": "1.2.0",
            "_view_name": "LayoutView",
            "align_content": null,
            "align_items": null,
            "align_self": null,
            "border": null,
            "bottom": null,
            "display": null,
            "flex": null,
            "flex_flow": null,
            "grid_area": null,
            "grid_auto_columns": null,
            "grid_auto_flow": null,
            "grid_auto_rows": null,
            "grid_column": null,
            "grid_gap": null,
            "grid_row": null,
            "grid_template_areas": null,
            "grid_template_columns": null,
            "grid_template_rows": null,
            "height": null,
            "justify_content": null,
            "justify_items": null,
            "left": null,
            "margin": null,
            "max_height": null,
            "max_width": null,
            "min_height": null,
            "min_width": null,
            "object_fit": null,
            "object_position": null,
            "order": null,
            "overflow": null,
            "overflow_x": null,
            "overflow_y": null,
            "padding": null,
            "right": null,
            "top": null,
            "visibility": null,
            "width": null
          }
        },
        "5af97a283bf34891bbc6fbc929773c4f": {
          "model_module": "@jupyter-widgets/controls",
          "model_name": "ProgressStyleModel",
          "model_module_version": "1.5.0",
          "state": {
            "_model_module": "@jupyter-widgets/controls",
            "_model_module_version": "1.5.0",
            "_model_name": "ProgressStyleModel",
            "_view_count": null,
            "_view_module": "@jupyter-widgets/base",
            "_view_module_version": "1.2.0",
            "_view_name": "StyleView",
            "bar_color": null,
            "description_width": ""
          }
        },
        "c34892f9083046c48a9b82abf33812eb": {
          "model_module": "@jupyter-widgets/base",
          "model_name": "LayoutModel",
          "model_module_version": "1.2.0",
          "state": {
            "_model_module": "@jupyter-widgets/base",
            "_model_module_version": "1.2.0",
            "_model_name": "LayoutModel",
            "_view_count": null,
            "_view_module": "@jupyter-widgets/base",
            "_view_module_version": "1.2.0",
            "_view_name": "LayoutView",
            "align_content": null,
            "align_items": null,
            "align_self": null,
            "border": null,
            "bottom": null,
            "display": null,
            "flex": null,
            "flex_flow": null,
            "grid_area": null,
            "grid_auto_columns": null,
            "grid_auto_flow": null,
            "grid_auto_rows": null,
            "grid_column": null,
            "grid_gap": null,
            "grid_row": null,
            "grid_template_areas": null,
            "grid_template_columns": null,
            "grid_template_rows": null,
            "height": null,
            "justify_content": null,
            "justify_items": null,
            "left": null,
            "margin": null,
            "max_height": null,
            "max_width": null,
            "min_height": null,
            "min_width": null,
            "object_fit": null,
            "object_position": null,
            "order": null,
            "overflow": null,
            "overflow_x": null,
            "overflow_y": null,
            "padding": null,
            "right": null,
            "top": null,
            "visibility": null,
            "width": null
          }
        },
        "79baacec22fb47a9b82e35eb60f5de29": {
          "model_module": "@jupyter-widgets/controls",
          "model_name": "DescriptionStyleModel",
          "model_module_version": "1.5.0",
          "state": {
            "_model_module": "@jupyter-widgets/controls",
            "_model_module_version": "1.5.0",
            "_model_name": "DescriptionStyleModel",
            "_view_count": null,
            "_view_module": "@jupyter-widgets/base",
            "_view_module_version": "1.2.0",
            "_view_name": "StyleView",
            "description_width": ""
          }
        }
      }
    }
  },
  "nbformat": 4,
  "nbformat_minor": 5
}