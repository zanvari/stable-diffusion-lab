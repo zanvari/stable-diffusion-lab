{
 "cells": [
  {
   "cell_type": "markdown",
   "id": "da5be364",
   "metadata": {
    "id": "da5be364"
   },
   "source": [
    "# 🔄 Stable Diffusion Image-to-Image Demo\n",
    "\n",
    "Use an input image and a prompt to generate a new image using Stable Diffusion."
   ]
  },
  {
   "cell_type": "markdown",
   "id": "195826a1",
   "metadata": {
    "id": "195826a1"
   },
   "source": [
    "\n",
    "## 📝 Overview\n",
    "\n",
    "This notebook demonstrates how to use **Image-to-Image** generation with Stable Diffusion to transform an input image based on a prompt.\n",
    "\n",
    "You'll learn how to:\n",
    "- Load a starting image\n",
    "- Use `StableDiffusionImg2ImgPipeline`\n",
    "- Apply prompts to guide the transformation of an image\n"
   ]
  },
  {
   "cell_type": "code",
   "execution_count": null,
   "id": "42a88b08",
   "metadata": {
    "id": "42a88b08"
   },
   "outputs": [],
   "source": [
    "!pip install diffusers transformers accelerate safetensors Pillow matplotlib --quiet"
   ]
  },
  {
   "cell_type": "code",
   "execution_count": null,
   "id": "04ae4d84",
   "metadata": {
    "colab": {
     "base_uri": "https://localhost:8080/",
     "height": 49,
     "referenced_widgets": [
      "ff6a4e2ebb544cf98375feac787869a4",
      "6983591e24d64a08bc76bbe9c79f14fc",
      "9054ff6348044f868a7c1acd3a7c145a",
      "0819d873fe754c55aaeb49ead0fde4f6",
      "c2b8f12e4efa472eb98710b2bc1d6154",
      "4db742c0281043db933259620aa3283d",
      "35f0e23ce4b7410cb653c7f7a4789b7a",
      "fc3998bb13d64216965b2a2c181ab2dd",
      "5af97a283bf34891bbc6fbc929773c4f",
      "c34892f9083046c48a9b82abf33812eb",
      "79baacec22fb47a9b82e35eb60f5de29"
     ]
    },
    "id": "04ae4d84",
    "outputId": "d7d479fa-c616-46e3-c3c4-6e9c38a5b396"
   },
   "outputs": [
    {
     "data": {
      "application/vnd.jupyter.widget-view+json": {
       "model_id": "ff6a4e2ebb544cf98375feac787869a4",
       "version_major": 2,
       "version_minor": 0
      },
      "text/plain": [
       "Loading pipeline components...:   0%|          | 0/7 [00:00<?, ?it/s]"
      ]
     },
     "metadata": {},
     "output_type": "display_data"
    }
   ],
   "source": [
    "from diffusers import StableDiffusionImg2ImgPipeline\n",
    "import torch\n",
    "from PIL import Image\n",
    "import requests\n",
    "import matplotlib.pyplot as plt\n",
    "\n",
    "pipe = StableDiffusionImg2ImgPipeline.from_pretrained(\n",
    "    \"runwayml/stable-diffusion-v1-5\", torch_dtype=torch.float16\n",
    ").to(\"cuda\" if torch.cuda.is_available() else \"cpu\")"
   ]
  },
  {
   "cell_type": "markdown",
   "id": "d56762f7",
   "metadata": {
    "id": "d56762f7"
   },
   "source": [
    "### 🖼️ Load Input Image"
   ]
  },
  {
   "cell_type": "code",
   "execution_count": null,
   "id": "6390844c",
   "metadata": {
    "id": "6390844c"
   },
   "outputs": [],
   "source": [
    "import matplotlib.pyplot as plt\n",
    "\n",
    "url = \"https://raw.githubusercontent.com/CompVis/stable-diffusion/main/assets/stable-samples/img2img/sketch-mountains-input.jpg\"\n",
    "init_image = Image.open(requests.get(url, stream=True).raw).convert(\"RGB\").resize((512, 512))\n",
    "init_image.save(\"img2img_input.png\")\n",
    "\n",
    "plt.imshow(init_image)\n",
    "plt.axis(\"off\")\n",
    "plt.show()"
   ]
  },
  {
   "cell_type": "markdown",
   "id": "21e63ae5",
   "metadata": {
    "id": "21e63ae5"
   },
   "source": [
    "### 🔁 Generate New Image"
   ]
  },
  {
   "cell_type": "code",
   "execution_count": null,
   "id": "49bc4d37",
   "metadata": {
    "id": "49bc4d37"
   },
   "outputs": [],
   "source": [
    "prompt = \"A fantasy mountain range with glowing waterfalls\"\n",
    "strength = 0.75  # how much to transform the original (0 = original, 1 = full gen)\n",
    "\n",
    "output = pipe(prompt=prompt, image=init_image, strength=strength, guidance_scale=7.5).images[0]\n",
    "output.save(\"img2img_output.png\")\n",
    "\n",
    "plt.imshow(output)\n",
    "plt.axis(\"off\")\n",
    "plt.show()"
   ]
  },
  {
   "cell_type": "markdown",
   "id": "d487009b",
   "metadata": {
    "id": "d487009b"
   },
   "source": [
    "\n",
    "## ✅ Summary\n",
    "\n",
    "Using image-to-image generation, you can blend the structure of an image with creative guidance from a prompt—ideal for concept sketching, enhancement, and stylization.\n"
   ]
  }
 ],
 "metadata": {
  "accelerator": "GPU",
  "colab": {
   "gpuType": "T4",
   "provenance": []
  },
  "kernelspec": {
   "display_name": "Python 3",
   "name": "python3"
  },
  "language_info": {
   "name": "python"
  }
 },
 "nbformat": 4,
 "nbformat_minor": 5
}
